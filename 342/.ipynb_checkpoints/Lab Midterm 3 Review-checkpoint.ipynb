{
 "cells": [
  {
   "cell_type": "code",
   "execution_count": 7,
   "metadata": {},
   "outputs": [],
   "source": [
    "import matplotlib.pyplot as plt\n",
    "import numpy as np\n",
    "import random as r"
   ]
  },
  {
   "cell_type": "markdown",
   "metadata": {},
   "source": [
    "## Monte Carlo Methods"
   ]
  },
  {
   "cell_type": "markdown",
   "metadata": {},
   "source": [
    "#### MLC"
   ]
  },
  {
   "cell_type": "code",
   "execution_count": 1,
   "metadata": {},
   "outputs": [],
   "source": [
    "a = 40692.\n",
    "m = 2147483399.\n",
    "no = 6\n",
    "n = [no] \n",
    "r = [no/m]"
   ]
  },
  {
   "cell_type": "code",
   "execution_count": 2,
   "metadata": {},
   "outputs": [],
   "source": [
    "for i in range(1000):\n",
    "    n_new = (a * n[-1]) % m\n",
    "    r_new = n[-1] / m\n",
    "    n.append(n_new)\n",
    "    r.append(r_new)"
   ]
  },
  {
   "cell_type": "code",
   "execution_count": 5,
   "metadata": {},
   "outputs": [
    {
     "data": {
      "text/plain": [
       "(array([107., 108.,  93.,  89., 115., 103., 100., 102.,  96.,  88.]),\n",
       " array([2.79396805e-09, 9.99013035e-02, 1.99802604e-01, 2.99703905e-01,\n",
       "        3.99605206e-01, 4.99506507e-01, 5.99407807e-01, 6.99309108e-01,\n",
       "        7.99210409e-01, 8.99111710e-01, 9.99013010e-01]),\n",
       " <a list of 10 Patch objects>)"
      ]
     },
     "execution_count": 5,
     "metadata": {},
     "output_type": "execute_result"
    },
    {
     "data": {
      "image/png": "[encoded data removed]",
      "text/plain": [
       "<Figure size 432x288 with 1 Axes>"
      ]
     },
     "metadata": {
      "needs_background": "light"
     },
     "output_type": "display_data"
    }
   ],
   "source": [
    "plt.hist(r)"
   ]
  },
  {
   "cell_type": "markdown",
   "metadata": {},
   "source": [
    "#### Acceptance-Rejection Method"
   ]
  },
  {
   "cell_type": "markdown",
   "metadata": {},
   "source": [
    "Given the pdf $f(t) = \\frac{e^{-t}}{1-e^{-1}}$ over the range x $\\epsilon$ [0,1], apply A.R.M. to plot a histogram for multiple experiments. Overlay the theoretical pdf overtop."
   ]
  },
  {
   "cell_type": "code",
   "execution_count": 22,
   "metadata": {},
   "outputs": [],
   "source": [
    "def f(t):\n",
    "    return np.exp(-t)/(1-np.exp(-1))"
   ]
  },
  {
   "cell_type": "code",
   "execution_count": 23,
   "metadata": {},
   "outputs": [],
   "source": [
    "count = 0\n",
    "trials = []\n",
    "while count <= 1000:\n",
    "    r1 = r.random()\n",
    "    r2 = r.random()\n",
    "    t_trial = 0.0 + (1.-0.) * r1\n",
    "    if f(t_trial) > 1.582 * r2:\n",
    "        count += 1\n",
    "        trials.append(t_trial)"
   ]
  },
  {
   "cell_type": "code",
   "execution_count": 24,
   "metadata": {},
   "outputs": [],
   "source": [
    "t = np.linspace(0,1,1000)\n",
    "f_theo = f(t)"
   ]
  },
  {
   "cell_type": "code",
   "execution_count": 25,
   "metadata": {},
   "outputs": [
    {
     "name": "stderr",
     "output_type": "stream",
     "text": [
      "/opt/conda/lib/python3.7/site-packages/ipykernel_launcher.py:1: MatplotlibDeprecationWarning: \n",
      "The 'normed' kwarg was deprecated in Matplotlib 2.1 and will be removed in 3.1. Use 'density' instead.\n",
      "  \"\"\"Entry point for launching an IPython kernel.\n"
     ]
    },
    {
     "data": {
      "text/plain": [
       "[<matplotlib.lines.Line2D at 0x7f46ea92fd90>]"
      ]
     },
     "execution_count": 25,
     "metadata": {},
     "output_type": "execute_result"
    },
    {
     "data": {
      "image/png": "[encoded data removed]",
      "text/plain": [
       "<Figure size 432x288 with 1 Axes>"
      ]
     },
     "metadata": {
      "needs_background": "light"
     },
     "output_type": "display_data"
    }
   ],
   "source": [
    "plt.hist(trials,normed = True)\n",
    "plt.plot(t,f_theo)"
   ]
  },
  {
   "cell_type": "markdown",
   "metadata": {},
   "source": [
    "## Likelihood and Estimators"
   ]
  },
  {
   "cell_type": "markdown",
   "metadata": {},
   "source": [
    "Given the pdf $f(s|a,b) = \\frac{2s}{b^2}(\\frac{b}{\\sqrt{s^2-a^2}}-1)$, write its respective negative log likelihood"
   ]
  },
  {
   "cell_type": "code",
   "execution_count": 34,
   "metadata": {},
   "outputs": [],
   "source": [
    "def func(s,a,b):\n",
    "    term1 = s*2/b**2\n",
    "    term2 = (b/np.sqrt(s**2-a**2))-1\n",
    "    return term1*term2"
   ]
  },
  {
   "cell_type": "code",
   "execution_count": 35,
   "metadata": {},
   "outputs": [],
   "source": [
    "def negLogLike(b):\n",
    "    sum = 0.\n",
    "    for x in s:\n",
    "        sum -= np.log(func(x,a,b))\n",
    "    return sum"
   ]
  },
  {
   "cell_type": "code",
   "execution_count": 36,
   "metadata": {},
   "outputs": [],
   "source": [
    "np.random.seed(1234)\n",
    "count = 0\n",
    "s = []\n",
    "while count < 100:\n",
    "    #Selecting a value along each rod\n",
    "    y1 = r.uniform(5,10)\n",
    "    y2 = r.uniform(5,10)\n",
    "    #Finding distance between points\n",
    "    si = np.sqrt(a ** 2 + (y2-y1) ** 2)\n",
    "    s.append(si)\n",
    "    count += 1"
   ]
  },
  {
   "cell_type": "code",
   "execution_count": 37,
   "metadata": {},
   "outputs": [],
   "source": [
    "b_val = np.linspace(5,10,1000)\n",
    "\n",
    "L = []\n",
    "for i in b_val:\n",
    "    L.append(negLogLike(i))"
   ]
  },
  {
   "cell_type": "code",
   "execution_count": 38,
   "metadata": {},
   "outputs": [
    {
     "data": {
      "text/plain": [
       "(array([121.,  99.,  95.,  93.,  93.,  95.,  96., 100., 102., 106.]),\n",
       " array([-905.23025542, -901.02385751, -896.8174596 , -892.61106169,\n",
       "        -888.40466378, -884.19826587, -879.99186796, -875.78547005,\n",
       "        -871.57907214, -867.37267423, -863.16627632]),\n",
       " <a list of 10 Patch objects>)"
      ]
     },
     "execution_count": 38,
     "metadata": {},
     "output_type": "execute_result"
    },
    {
     "data": {
      "image/png": "[encoded data removed]",
      "text/plain": [
       "<Figure size 432x288 with 1 Axes>"
      ]
     },
     "metadata": {
      "needs_background": "light"
     },
     "output_type": "display_data"
    }
   ],
   "source": [
    "plt.hist(L)"
   ]
  },
  {
   "cell_type": "code",
   "execution_count": null,
   "metadata": {},
   "outputs": [],
   "source": []
  }
 ],
 "metadata": {
  "kernelspec": {
   "display_name": "Python 3",
   "language": "python",
   "name": "python3"
  },
  "language_info": {
   "codemirror_mode": {
    "name": "ipython",
    "version": 3
   },
   "file_extension": ".py",
   "mimetype": "text/x-python",
   "name": "python",
   "nbconvert_exporter": "python",
   "pygments_lexer": "ipython3",
   "version": "3.7.6"
  }
 },
 "nbformat": 4,
 "nbformat_minor": 4
}
