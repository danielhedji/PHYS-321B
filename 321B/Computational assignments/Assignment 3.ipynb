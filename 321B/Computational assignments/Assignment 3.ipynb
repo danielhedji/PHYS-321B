{
 "cells": [
  {
   "cell_type": "markdown",
   "metadata": {},
   "source": [
    "In this problem, I had relied on information that I had gotten from the third question (3b) from the analytic assignment. Similar to the recommended problem approach, I had defined a function that continuously checked to see if the r component of the force had changed signs, if it had, the angle was found, otherwise using forward integration I would iterate until the signs had changed. This process was repeated for various radii and angular speeds."
   ]
  },
  {
   "cell_type": "code",
   "execution_count": 1,
   "metadata": {},
   "outputs": [],
   "source": [
    "import numpy as np\n",
    "import matplotlib.pyplot as plt"
   ]
  },
  {
   "cell_type": "code",
   "execution_count": 2,
   "metadata": {},
   "outputs": [],
   "source": [
    "def lose_contact(ang_th,R):\n",
    "    #Initial theta approximately equal to (but not) 0\n",
    "    th = 1e-5\n",
    "    dth = ang_th\n",
    "    m = 1 #Chosen arbitrarily\n",
    "    \n",
    "    t = 1e-4 #Timestep in s\n",
    "    g = 9.81\n",
    "    \n",
    "    while -m*R*dth**2 + g * np.cos(th) > 0:\n",
    "        \n",
    "        d2th = g * np.sin(th) / R #Angular acceleration term\n",
    "        th = th + dth * t + 0.5 * d2th * t**2 #Applying equation 2 (ie forward integrating the velocity term)\n",
    "        dth = dth + t*d2th #Applying equation 1 (ie forward integrating the acceleration term)\n",
    "    \n",
    "    return th"
   ]
  },
  {
   "cell_type": "code",
   "execution_count": 3,
   "metadata": {},
   "outputs": [],
   "source": [
    "#Creating different angular speeds and radii\n",
    "ang_th = np.linspace(0,2.25,10)\n",
    "R = [1,1.5,2]\n",
    "loss_ang = []\n",
    "#Applies the process for each R value\n",
    "for r in R:\n",
    "    angles = []\n",
    "    #Finds the angle of lost contact for each condition set and puts it into a list\n",
    "    for v in ang_th:\n",
    "        angles.append(lose_contact(v,r))\n",
    "    loss_ang.append(angles)"
   ]
  },
  {
   "cell_type": "code",
   "execution_count": 4,
   "metadata": {},
   "outputs": [],
   "source": [
    "#Lists made to organize the plots\n",
    "labels = [\"R = 1m\",\"R = 1.5m\",\"R = 2m\"]\n",
    "colours = [\"b.\",\"g.\",\"r.\"]"
   ]
  },
  {
   "cell_type": "code",
   "execution_count": 5,
   "metadata": {},
   "outputs": [
    {
     "data": {
      "image/png": "[encoded data removed]",
      "text/plain": [
       "<Figure size 432x288 with 1 Axes>"
      ]
     },
     "metadata": {
      "needs_background": "light"
     },
     "output_type": "display_data"
    }
   ],
   "source": [
    "#Plotting for each R list created\n",
    "for i in range(len(R)):\n",
    "    plt.plot(ang_th, loss_ang[i],colours[i], label = labels[i])\n",
    "    plt.xlabel(\"Initial angular velocity\")\n",
    "    plt.ylabel(\"Angle of lost contact\")\n",
    "    plt.title(\"Angle of lost contact as a function of angular velocity\")\n",
    "    plt.legend()\n",
    "    plt.grid()"
   ]
  },
  {
   "cell_type": "markdown",
   "metadata": {},
   "source": [
    "From observing the plots above for varying R values. It is shown that as R gets larger, the angle of contact with the hemisphere will be closer to the starting point of theta = 0. This is especially prevelant for cases in which the angular speed is greater in magnitude."
   ]
  }
 ],
 "metadata": {
  "kernelspec": {
   "display_name": "Python 3",
   "language": "python",
   "name": "python3"
  },
  "language_info": {
   "codemirror_mode": {
    "name": "ipython",
    "version": 3
   },
   "file_extension": ".py",
   "mimetype": "text/x-python",
   "name": "python",
   "nbconvert_exporter": "python",
   "pygments_lexer": "ipython3",
   "version": "3.7.6"
  }
 },
 "nbformat": 4,
 "nbformat_minor": 4
}
