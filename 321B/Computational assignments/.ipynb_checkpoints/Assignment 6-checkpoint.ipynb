{
 "cells": [
  {
   "cell_type": "markdown",
   "metadata": {},
   "source": [
    "## Daniel Hedji, V00887395\n",
    "### Computational 6\n",
    "In this assignment, I had decided to use a slightly modified code from the fifth computational assignment to solve the scattering angle for the quantities given in the data sets provided. This entailed modifying each equation such that it used $\\frac{L}{m}$ instead of given quantities that were arbitrarily chosen. The given scattering angles were compared to the found scattering angles, and the assumed potential was changed accordingly."
   ]
  },
  {
   "cell_type": "code",
   "execution_count": 264,
   "metadata": {},
   "outputs": [],
   "source": [
    "import numpy as np\n",
    "import matplotlib.pyplot as plt"
   ]
  },
  {
   "cell_type": "code",
   "execution_count": 265,
   "metadata": {},
   "outputs": [],
   "source": [
    "#Data set 1\n",
    "vo1 = 120 #in pixels/s\n",
    "l_m_1 = [5000,3700,2600] #in pixels^2/s\n",
    "sc_ang_1 = [0.84,1.08,1.53] #in rad"
   ]
  },
  {
   "cell_type": "code",
   "execution_count": 266,
   "metadata": {},
   "outputs": [],
   "source": [
    "#Data set 2\n",
    "vo2 = 140 #in pixels/s\n",
    "l_m_2 = [3000,1200,5300,5000] #in pixels^2/s\n",
    "sc_ang_2 = [1.83,2.47,0.87,0.98] #in rad"
   ]
  },
  {
   "cell_type": "code",
   "execution_count": 267,
   "metadata": {},
   "outputs": [],
   "source": [
    "#Data set 3\n",
    "R = 22\n",
    "vi = [154.7,136.5,122.4,141.4,141.7,143.8,147.7,116.3,118.4,122.7,180.3,213.2,210.8,187.0,198.8,190.0,165.7,137.0,153.253928631349,148.761379642823,206.761688643166,163.415568370742,167.645516643504]\n",
    "L_m = [-5089,-2949,-5020,-1237,-5323,-4958,-4723,-3728,-2559,-8280,-9441.2,-13567.2,-12361.9,-4671.2,-10229.1,-9156.4,-1093.3,-2347.2,-3500.00550988241,-4579.3508729139,-3493.38429864972,-6371.37628230192,-4290.13377665331]\n",
    "th = [1.165,1.830,0.837,2.466,0.868,0.978,1.154,1.077,1.531,0.298,0.346,0.160,0.184,1.447,0.273,0.339,2.827,1.940,1.67443293810652,1.16612437111815,2.23808950073919,0.818851860683304,2.70735679131889]"
   ]
  },
  {
   "cell_type": "markdown",
   "metadata": {},
   "source": [
    "To have an intial starting point for the potential of this system, I used the formula $\\bar{A}(\\bar{r}) = \\frac{\\mu_0}{4\\pi}\\oint_C \\frac{I}{|\\bar{r}-\\bar{r'}|} \\,\\bar{dl'}$"
   ]
  },
  {
   "cell_type": "markdown",
   "metadata": {},
   "source": [
    "Using the generalized vector form of $\\bar{r} = x\\hat{x} + y\\hat{y} +  z\\hat{z} = rcos\\theta cos\\phi\\hat{x} + rsin\\theta sin\\phi\\hat{y} +  rcos\\theta\\hat{z}$. Note that $\\bar{r'}$ follows a similar formula"
   ]
  },
  {
   "cell_type": "markdown",
   "metadata": {},
   "source": [
    "Using a Taylors expansion for the vector terms in $\\bar{A}$ results in $\\frac{1}{r} + \\frac{r'sin\\theta cos(\\phi - \\phi')}{r^2}$. Solving this integral gives a potential for this configuration that is proportional to $sin\\theta$"
   ]
  },
  {
   "cell_type": "code",
   "execution_count": 297,
   "metadata": {},
   "outputs": [],
   "source": [
    "def scatter(L_m,vo,R):\n",
    "    #Initially chosen quantities\n",
    "    s = 0.01\n",
    "    alph = 1.4\n",
    "    r = R\n",
    "    ts = 1e-4\n",
    "    #Initial conditions\n",
    "    xo = np.sqrt(r**2 - s**2)\n",
    "    th = np.arctan(s/xo)\n",
    "    r_d = vo * xo / r\n",
    "    th_d = L_m / r**2\n",
    "    #Potential that was assumed at the beginning\n",
    "    term = np.sin(th) \n",
    "    \n",
    "    for i in range(10000):\n",
    "        #r acceleration eom found through Routian\n",
    "        r_dd = L_m ** 2 / r**3 + (term)\n",
    "        #angular speed formula\n",
    "        th_d = L_m / r**2\n",
    "        #Forward integration\n",
    "        r = 0.5 * r_dd * ts**2 + r_d * ts + r\n",
    "        r_d = r_dd * ts + r_d\n",
    "        th = th_d * ts + th\n",
    "    \n",
    "    return th"
   ]
  },
  {
   "cell_type": "code",
   "execution_count": 305,
   "metadata": {},
   "outputs": [],
   "source": [
    "#Getting scattering angles for the given data set (#3)\n",
    "ths_3 = []\n",
    "for i,j in zip(vi,L_m):\n",
    "    ths_3.append(scatter(j,i,R))"
   ]
  },
  {
   "cell_type": "code",
   "execution_count": 349,
   "metadata": {},
   "outputs": [
    {
     "data": {
      "text/plain": [
       "Text(0.5, 1.0, '$\\\\theta$ as a function of $\\\\frac{L}{m}$ for data set 3')"
      ]
     },
     "execution_count": 349,
     "metadata": {},
     "output_type": "execute_result"
    },
    {
     "data": {
      "image/png": "[encoded data removed]",
      "text/plain": [
       "<Figure size 432x288 with 1 Axes>"
      ]
     },
     "metadata": {
      "needs_background": "light"
     },
     "output_type": "display_data"
    }
   ],
   "source": [
    "#Plotting\n",
    "plt.plot(L_m,ths_3,'b.', label = \"Approx.\")\n",
    "plt.plot(L_m,th,'r.',label = \"Data\")\n",
    "plt.grid()\n",
    "plt.legend()\n",
    "plt.xlabel(\"$\\\\frac{L}{m}$\")\n",
    "plt.ylabel(\"$ \\\\theta$\")\n",
    "plt.title(\"$\\\\theta$ as a function of $\\\\frac{L}{m}$ for data set 3\")"
   ]
  },
  {
   "cell_type": "code",
   "execution_count": 295,
   "metadata": {},
   "outputs": [],
   "source": [
    "#Getting scattering angles for the given data set (#1)\n",
    "ths_1 = []\n",
    "for i in l_m_1:\n",
    "    ths_1.append(scatter(i,vo1,R))"
   ]
  },
  {
   "cell_type": "code",
   "execution_count": 348,
   "metadata": {},
   "outputs": [
    {
     "data": {
      "text/plain": [
       "Text(0.5, 1.0, '$\\\\theta$ as a function of $\\\\frac{L}{m}$ for data set 1')"
      ]
     },
     "execution_count": 348,
     "metadata": {},
     "output_type": "execute_result"
    },
    {
     "data": {
      "image/png": "[encoded data removed]",
      "text/plain": [
       "<Figure size 432x288 with 1 Axes>"
      ]
     },
     "metadata": {
      "needs_background": "light"
     },
     "output_type": "display_data"
    }
   ],
   "source": [
    "#Plotting\n",
    "plt.plot(l_m_1, ths_1,'g.',label = \"Approx.\")\n",
    "plt.plot(l_m_1,sc_ang_1,'r.',label = \"Data\")\n",
    "plt.grid()\n",
    "plt.legend()\n",
    "plt.xlabel(\"$\\\\frac{L}{m}$\")\n",
    "plt.ylabel(\"$ \\\\theta$\")\n",
    "plt.title(\"$\\\\theta$ as a function of $\\\\frac{L}{m}$ for data set 1\")"
   ]
  },
  {
   "cell_type": "code",
   "execution_count": 290,
   "metadata": {},
   "outputs": [],
   "source": [
    "#Getting scattering angles for the given data set (#2)\n",
    "ths_2 = []\n",
    "for i in l_m_2:\n",
    "    ths_2.append(scatter(i,vo2,R))"
   ]
  },
  {
   "cell_type": "code",
   "execution_count": 347,
   "metadata": {},
   "outputs": [
    {
     "data": {
      "text/plain": [
       "Text(0.5, 1.0, '$\\\\theta$ as a function of $\\\\frac{L}{m}$ for data set 2')"
      ]
     },
     "execution_count": 347,
     "metadata": {},
     "output_type": "execute_result"
    },
    {
     "data": {
      "image/png": "[encoded data removed]",
      "text/plain": [
       "<Figure size 432x288 with 1 Axes>"
      ]
     },
     "metadata": {
      "needs_background": "light"
     },
     "output_type": "display_data"
    }
   ],
   "source": [
    "#Plotting\n",
    "plt.plot(l_m_2, ths_2,'g.',label = \"Approx.\")\n",
    "plt.plot(l_m_2,sc_ang_2,'r.',label = \"Data\")\n",
    "plt.grid()\n",
    "plt.legend()\n",
    "plt.xlabel(\"$\\\\frac{L}{m}$\")\n",
    "plt.ylabel(\"$ \\\\theta$\")\n",
    "plt.title(\"$\\\\theta$ as a function of $\\\\frac{L}{m}$ for data set 2\")"
   ]
  },
  {
   "cell_type": "markdown",
   "metadata": {},
   "source": [
    "It is noticed that for each data set, the approximated data had similar behaviour, with each set of data being offset by a constant value for each theta. From this, it is concluded that the potential is sinusoidal in nature. Some examples of potential constants are shown below"
   ]
  },
  {
   "cell_type": "code",
   "execution_count": 344,
   "metadata": {},
   "outputs": [
    {
     "data": {
      "text/plain": [
       "Text(0.5, 1.0, '$\\\\theta$ as a function of $\\\\frac{L}{m}$ for data set 1')"
      ]
     },
     "execution_count": 344,
     "metadata": {},
     "output_type": "execute_result"
    },
    {
     "data": {
      "image/png": "[encoded data removed]",
      "text/plain": [
       "<Figure size 432x288 with 1 Axes>"
      ]
     },
     "metadata": {
      "needs_background": "light"
     },
     "output_type": "display_data"
    }
   ],
   "source": [
    "#Plotting\n",
    "plt.plot(l_m_1, 2.15-1.3*np.array(ths_1),'g.',label = \"Approx.\")\n",
    "plt.plot(l_m_1,sc_ang_1,'r.',label = \"Data\")\n",
    "plt.grid()\n",
    "plt.legend()\n",
    "plt.xlabel(\"$\\\\frac{L}{m}$\")\n",
    "plt.ylabel(\"$ \\\\theta$\")\n",
    "plt.title(\"$\\\\theta$ as a function of $\\\\frac{L}{m}$ for data set 1\")"
   ]
  },
  {
   "cell_type": "code",
   "execution_count": 345,
   "metadata": {},
   "outputs": [
    {
     "data": {
      "text/plain": [
       "Text(0.5, 1.0, '$\\\\theta$ as a function of $\\\\frac{L}{m}$ for data set 2')"
      ]
     },
     "execution_count": 345,
     "metadata": {},
     "output_type": "execute_result"
    },
    {
     "data": {
      "image/png": "[encoded data removed]",
      "text/plain": [
       "<Figure size 432x288 with 1 Axes>"
      ]
     },
     "metadata": {
      "needs_background": "light"
     },
     "output_type": "display_data"
    }
   ],
   "source": [
    "#Plotting\n",
    "plt.plot(l_m_2, 2.85-1.9*np.array(ths_2),'g.',label = \"Approx.\")\n",
    "plt.plot(l_m_2,sc_ang_2,'r.',label = \"Data\")\n",
    "plt.grid()\n",
    "plt.legend()\n",
    "plt.xlabel(\"$\\\\frac{L}{m}$\")\n",
    "plt.ylabel(\"$ \\\\theta$\")\n",
    "plt.title(\"$\\\\theta$ as a function of $\\\\frac{L}{m}$ for data set 2\")"
   ]
  },
  {
   "cell_type": "code",
   "execution_count": 346,
   "metadata": {},
   "outputs": [
    {
     "data": {
      "text/plain": [
       "Text(0.5, 1.0, '$\\\\theta$ as a function of $\\\\frac{L}{m}$ for data set 3')"
      ]
     },
     "execution_count": 346,
     "metadata": {},
     "output_type": "execute_result"
    },
    {
     "data": {
      "image/png": "[encoded data removed]",
      "text/plain": [
       "<Figure size 432x288 with 1 Axes>"
      ]
     },
     "metadata": {
      "needs_background": "light"
     },
     "output_type": "display_data"
    }
   ],
   "source": [
    "#Plotting\n",
    "plt.plot(L_m,2.5+2*np.array(ths_3),'b.', label = \"Approx.\")\n",
    "plt.plot(L_m,th,'r.',label = \"Data\")\n",
    "plt.grid()\n",
    "plt.legend()\n",
    "plt.xlabel(\"$\\\\frac{L}{m}$\")\n",
    "plt.ylabel(\"$ \\\\theta$\")\n",
    "plt.title(\"$\\\\theta$ as a function of $\\\\frac{L}{m}$ for data set 3\")"
   ]
  },
  {
   "cell_type": "code",
   "execution_count": null,
   "metadata": {},
   "outputs": [],
   "source": []
  }
 ],
 "metadata": {
  "kernelspec": {
   "display_name": "Python 3",
   "language": "python",
   "name": "python3"
  },
  "language_info": {
   "codemirror_mode": {
    "name": "ipython",
    "version": 3
   },
   "file_extension": ".py",
   "mimetype": "text/x-python",
   "name": "python",
   "nbconvert_exporter": "python",
   "pygments_lexer": "ipython3",
   "version": "3.7.6"
  }
 },
 "nbformat": 4,
 "nbformat_minor": 4
}
