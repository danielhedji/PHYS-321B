{
 "cells": [
  {
   "cell_type": "code",
   "execution_count": 1,
   "metadata": {},
   "outputs": [],
   "source": [
    "import numpy as np\n",
    "import matplotlib.pyplot as plt"
   ]
  },
  {
   "cell_type": "code",
   "execution_count": 2,
   "metadata": {},
   "outputs": [
    {
     "data": {
      "text/plain": [
       "array([[ 0.0000e+00,  2.6000e-01,  2.0000e-02, ...,  2.0000e-01,\n",
       "        -3.0000e-02,  1.0000e-02],\n",
       "       [ 2.0000e-02,  3.2000e-01,  1.1000e-01, ...,  2.2000e-01,\n",
       "         3.0000e-02, -5.0000e-02],\n",
       "       [ 4.0000e-02,  3.2000e-01, -6.0000e-02, ...,  3.3000e-01,\n",
       "         4.0000e-02, -3.0000e-02],\n",
       "       ...,\n",
       "       [ 1.1996e+02,  3.0000e-01,  4.0000e-02, ...,  3.1000e-01,\n",
       "        -1.0000e-02, -2.1000e-01],\n",
       "       [ 1.1998e+02,  6.0000e-02, -3.0000e-02, ...,  5.0000e-01,\n",
       "        -8.0000e-02, -1.0000e-01],\n",
       "       [ 1.2000e+02,  3.5000e-01,  2.1000e-01, ...,  5.5000e-01,\n",
       "        -1.0000e-02, -4.0000e-02]])"
      ]
     },
     "execution_count": 2,
     "metadata": {},
     "output_type": "execute_result"
    }
   ],
   "source": [
    "#Taking the data from the csv file given\n",
    "text = np.loadtxt(r'ML3-Glider-M09.txt')\n",
    "text"
   ]
  },
  {
   "cell_type": "code",
   "execution_count": 191,
   "metadata": {},
   "outputs": [],
   "source": [
    "#Initial conditions\n",
    "m1,m2,m3 = 320,160,160 #in g\n",
    "k1,k2,k3,k4 = 1.6, 0.8, 1.6, 1.6 #in N/m"
   ]
  },
  {
   "cell_type": "code",
   "execution_count": 190,
   "metadata": {},
   "outputs": [],
   "source": [
    "#Converting to the same base (kg)\n",
    "m1 = m1 / 1000\n",
    "m2 = m2 / 1000\n",
    "m3 = m3 / 1000"
   ]
  },
  {
   "cell_type": "code",
   "execution_count": 33,
   "metadata": {},
   "outputs": [],
   "source": [
    "#Extracting the acceleration data for 1st trial\n",
    "t1 = text[:,0] #Time column\n",
    "a11 = text[:,1] #M1 acceleration\n",
    "a21 = text[:,2] #M2 acceleration\n",
    "a31 = text[:,3] #M3 acceleration"
   ]
  },
  {
   "cell_type": "code",
   "execution_count": 34,
   "metadata": {},
   "outputs": [],
   "source": [
    "a12 = text[:,5] #M1 acceleration\n",
    "a22 = text[:,6] #M2 acceleration\n",
    "a32 = text[:,7] #M3 acceleration"
   ]
  },
  {
   "cell_type": "code",
   "execution_count": 35,
   "metadata": {},
   "outputs": [],
   "source": [
    "a13 = text[:,9] #M1 acceleration\n",
    "a23 = text[:,10] #M2 acceleration\n",
    "a33 = text[:,11] #M3 acceleration"
   ]
  },
  {
   "cell_type": "markdown",
   "metadata": {},
   "source": [
    "For this given problem, the $-\\omega^2T - V$ matrix is $\\begin{pmatrix} -m_1\\omega^2+(k_1+k_2) & -k_2 & 0 \\\\ -k_2 & -m_2\\omega^2+(k_2+k_3) & -k_3 \\\\ 0 & -k_3 & -m_3\\omega^2+(k_3+k_4) \\end{pmatrix}$. To find the $\\omega^2$ values, the determinant of the above matrix needs to be $0$."
   ]
  },
  {
   "cell_type": "markdown",
   "metadata": {},
   "source": [
    "Analytically solving the determinant, gives \n",
    "\n",
    "$[-m_1\\omega^2+(k_1+k_2)][(-m_2\\omega^2+(k_2+k_3))(-m_3\\omega^2+(k_3+k_4))-k_3^2]-k_2[(k_2(-m_3\\omega^2+(k_3+k_4))] = 0$"
   ]
  },
  {
   "cell_type": "code",
   "execution_count": 260,
   "metadata": {},
   "outputs": [],
   "source": [
    "#Range of frequency values\n",
    "w = np.linspace(0,0.2,1000)"
   ]
  },
  {
   "cell_type": "code",
   "execution_count": 276,
   "metadata": {},
   "outputs": [],
   "source": [
    "deter = []\n",
    "w_s = []\n",
    "zero = []\n",
    "#Error margin\n",
    "eps = 1e-2\n",
    "for i in w:\n",
    "    #Applying the formula of the above determinant\n",
    "    term1 = -m1*i**2+(k1+k2)\n",
    "    term2 = -m2*i**2+(k2+k3)\n",
    "    term3 = -m3*i**2+(k3+k4)\n",
    "    res = term1*(term2*term3-k3**2)-(term3*k2**2)\n",
    "    deter.append(res)\n",
    "    #Seeing which values are approximately 0\n",
    "    if abs(res) <= eps:\n",
    "        w_s.append(i)\n",
    "        zero.append(res)"
   ]
  },
  {
   "cell_type": "code",
   "execution_count": 266,
   "metadata": {},
   "outputs": [
    {
     "data": {
      "text/plain": [
       "Text(0.5, 1.0, 'Determinant values as a function of $\\\\omega^2$')"
      ]
     },
     "execution_count": 266,
     "metadata": {},
     "output_type": "execute_result"
    },
    {
     "data": {
      "image/png": "[encoded data removed]",
      "text/plain": [
       "<Figure size 432x288 with 1 Axes>"
      ]
     },
     "metadata": {
      "needs_background": "light"
     },
     "output_type": "display_data"
    }
   ],
   "source": [
    "plt.plot(w,deter)\n",
    "plt.plot(w_s,zero, 'k.')\n",
    "plt.grid()\n",
    "plt.xlabel(\"$\\omega$ (Hz)\")\n",
    "plt.ylabel(\"Determinant value\")\n",
    "plt.title(\"Determinant values as a function of $\\omega^2$\")"
   ]
  },
  {
   "cell_type": "code",
   "execution_count": 267,
   "metadata": {},
   "outputs": [
    {
     "data": {
      "text/plain": [
       "[0.0667066706670667,\n",
       " 0.06672667266726673,\n",
       " 0.06674667466746675,\n",
       " 0.06676667666766677,\n",
       " 0.06678667866786679,\n",
       " 0.0668066806680668,\n",
       " 0.06682668266826683,\n",
       " 0.09994999499949996,\n",
       " 0.09996999699969997,\n",
       " 0.09998999899989999,\n",
       " 0.10001000100010002,\n",
       " 0.10003000300030003,\n",
       " 0.10005000500050006,\n",
       " 0.16745674567456748]"
      ]
     },
     "execution_count": 267,
     "metadata": {},
     "output_type": "execute_result"
    }
   ],
   "source": [
    "w_s"
   ]
  },
  {
   "cell_type": "markdown",
   "metadata": {},
   "source": [
    "As shown in the angular frequency array above, the set of points cumulate around 3 areas. $\\omega = 0.067,\\omega = 0.10$, and $\\omega = 0.17$, approximately"
   ]
  },
  {
   "cell_type": "markdown",
   "metadata": {},
   "source": [
    "Therefore, the $\\omega^2$ values are $0.0045, 0.01,$ and $0.029$, respectively. These values correlate to frequencies, $f$, of 0.011, 0.016, and 0.027, respectively."
   ]
  },
  {
   "cell_type": "markdown",
   "metadata": {},
   "source": [
    "Rearranging the $-\\omega^2T+V$ matrix into the unique x solutions, it was found that $x_1 = \\frac{-k_2x_2}{-m_1\\omega^2+(k_1+k_2)}$, $x_2$ was the form of the solution to the harmonic oscillator ODE with arbitrary amplitude, and $x_3 = \\frac{k_1x_2}{-m_3\\omega^2+(k_3+k_4)}$"
   ]
  },
  {
   "cell_type": "code",
   "execution_count": 268,
   "metadata": {},
   "outputs": [],
   "source": [
    "#Above frequencies\n",
    "w_s1 = 0.0045 #in Hz^2\n",
    "w_s2 = 0.01 #in Hz^2\n",
    "w_s3 = 0.029 #in Hz^2"
   ]
  },
  {
   "cell_type": "code",
   "execution_count": 274,
   "metadata": {},
   "outputs": [],
   "source": [
    "#Function for x_1 coefficient\n",
    "def x_1(m1,k1,k2,w_s):\n",
    "    denom = -m1*w_s+(k1+k2)\n",
    "    return -k2/denom\n",
    "#Function for x_2 coefficient\n",
    "def x_3(m3,k1,k3,k4,w_s):\n",
    "    denom = -m3*w_s+(k3+k4)\n",
    "    return k1/denom"
   ]
  },
  {
   "cell_type": "code",
   "execution_count": 275,
   "metadata": {},
   "outputs": [
    {
     "name": "stdout",
     "output_type": "stream",
     "text": [
      "The coefficients are [-0.833333333333333, 0.6451612903225805] respectively\n",
      "The coefficients are [1.0000000000000002, 1.0] respectively\n",
      "The coefficients are [0.11627906976744186, -1.111111111111111] respectively\n"
     ]
    }
   ],
   "source": [
    "#Finding the coefficients\n",
    "#Note that the first index refers to x_1's coefficient and the second is x_3's coefficient\n",
    "coeff1 = [x_1(m1,k1,k2,w_s1),x_3(m3,k1,k3,k4,w_s1)]\n",
    "coeff2 = [x_1(m1,k1,k2,w_s2),x_3(m3,k1,k3,k4,w_s2)]\n",
    "coeff3 = [x_1(m1,k1,k2,w_s3),x_3(m3,k1,k3,k4,w_s3)]\n",
    "print(\"The coefficients are\",coeff1, \"respectively\")\n",
    "print(\"The coefficients are\",coeff2, \"respectively\")\n",
    "print(\"The coefficients are\",coeff3, \"respectively\")"
   ]
  },
  {
   "cell_type": "markdown",
   "metadata": {},
   "source": [
    "The three normal modes are as follows:\n",
    "\n",
    "For $\\omega = 0.067$:\n",
    "\n",
    "$x_1 = -0.83Acos(0.067t),x_2 = Acos(0.067t), x_3 = 0.65Acos(0.067t)$ for some arbitrary amplitude $A$.\n",
    "\n",
    "For $\\omega = 0.1$:\n",
    "\n",
    "$x_1 = Acos(0.1t),x_2 = Acos(0.1t), x_3 = Acos(0.1t)$ for some arbitrary amplitude $A$.\n",
    "\n",
    "For $\\omega = 0.17$:\n",
    "\n",
    "$x_1 = 0.12Acos(0.17t),x_2 = Acos(0.17t), x_3 = -1.1Acos(0.17t)$ for some arbitrary amplitude $A$."
   ]
  }
 ],
 "metadata": {
  "kernelspec": {
   "display_name": "Python 3",
   "language": "python",
   "name": "python3"
  },
  "language_info": {
   "codemirror_mode": {
    "name": "ipython",
    "version": 3
   },
   "file_extension": ".py",
   "mimetype": "text/x-python",
   "name": "python",
   "nbconvert_exporter": "python",
   "pygments_lexer": "ipython3",
   "version": "3.7.6"
  }
 },
 "nbformat": 4,
 "nbformat_minor": 4
}
