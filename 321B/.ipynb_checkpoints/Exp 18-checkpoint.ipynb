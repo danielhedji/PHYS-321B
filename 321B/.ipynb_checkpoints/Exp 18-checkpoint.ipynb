{
 "cells": [
  {
   "cell_type": "code",
   "execution_count": 1,
   "metadata": {},
   "outputs": [],
   "source": [
    "import numpy as np\n",
    "import matplotlib.pyplot as plt"
   ]
  },
  {
   "cell_type": "code",
   "execution_count": 2,
   "metadata": {},
   "outputs": [],
   "source": [
    "#List for precession rates\n",
    "prec_rate = [0.132,0.12,0.089,0.0776,0.0593,0.05] #in 1/s\n",
    "#List for spin rate\n",
    "spin_rate = [1.065,1.212,1.458,1.809,2.202,2.240] #in 1/s"
   ]
  },
  {
   "cell_type": "code",
   "execution_count": 3,
   "metadata": {},
   "outputs": [],
   "source": [
    "#Converting from lists to arrays\n",
    "prec_rate = np.array(prec_rate)\n",
    "spin_rate = np.array(spin_rate)"
   ]
  },
  {
   "cell_type": "code",
   "execution_count": 4,
   "metadata": {},
   "outputs": [],
   "source": [
    "#Inverting results\n",
    "inv_pr = np.power(prec_rate,-1)"
   ]
  },
  {
   "cell_type": "code",
   "execution_count": 5,
   "metadata": {},
   "outputs": [
    {
     "data": {
      "text/plain": [
       "Text(0.5, 1.0, '$\\\\frac{1}{\\\\Omega}$ vs $\\\\omega$')"
      ]
     },
     "execution_count": 5,
     "metadata": {},
     "output_type": "execute_result"
    },
    {
     "data": {
      "image/png": "[encoded data removed]",
      "text/plain": [
       "<Figure size 864x360 with 1 Axes>"
      ]
     },
     "metadata": {
      "needs_background": "light"
     },
     "output_type": "display_data"
    }
   ],
   "source": [
    "#Plotting results\n",
    "plt.figure(figsize = (12,5))\n",
    "plt.plot(spin_rate,inv_pr, 'b.')\n",
    "plt.grid()\n",
    "plt.xlabel(\"$\\omega$\")\n",
    "plt.ylabel(\"$\\\\frac{1}{\\Omega}$\")\n",
    "plt.title(\"$\\\\frac{1}{\\Omega}$ vs $\\omega$\")"
   ]
  },
  {
   "cell_type": "code",
   "execution_count": 6,
   "metadata": {},
   "outputs": [],
   "source": [
    "w_new = spin_rate[:-2]\n",
    "inv_new = inv_pr[:-2]"
   ]
  },
  {
   "cell_type": "code",
   "execution_count": 7,
   "metadata": {},
   "outputs": [
    {
     "data": {
      "text/plain": [
       "array([ 7.49205025, -0.37607067])"
      ]
     },
     "execution_count": 7,
     "metadata": {},
     "output_type": "execute_result"
    }
   ],
   "source": [
    "#Applying a linear fit to data\n",
    "poly = np.polyfit(w_new,inv_new,1)\n",
    "poly"
   ]
  },
  {
   "cell_type": "code",
   "execution_count": 8,
   "metadata": {},
   "outputs": [],
   "source": [
    "#Range for fit data\n",
    "x = np.linspace(1,1.85,100)\n",
    "#Since the data is linear, follows formula y=mx+b\n",
    "y = poly[0] * x + poly[1]"
   ]
  },
  {
   "cell_type": "code",
   "execution_count": 9,
   "metadata": {
    "scrolled": true
   },
   "outputs": [
    {
     "data": {
      "text/plain": [
       "<matplotlib.legend.Legend at 0x7fb81d6e9fd0>"
      ]
     },
     "execution_count": 9,
     "metadata": {},
     "output_type": "execute_result"
    },
    {
     "data": {
      "image/png": "[encoded data removed]",
      "text/plain": [
       "<Figure size 864x360 with 1 Axes>"
      ]
     },
     "metadata": {
      "needs_background": "light"
     },
     "output_type": "display_data"
    }
   ],
   "source": [
    "#Plotting results\n",
    "plt.figure(figsize = (12,5))\n",
    "plt.plot(spin_rate,inv_pr, 'g.', label = \"Data\")\n",
    "plt.plot(x,y,'m',label = \"Fit\")\n",
    "plt.grid()\n",
    "plt.xlabel(\"$\\omega$\")\n",
    "plt.ylabel(\"$\\\\frac{1}{\\Omega}$\")\n",
    "plt.title(\"$\\\\frac{1}{\\Omega}$ vs $\\omega$\")\n",
    "plt.legend()"
   ]
  },
  {
   "cell_type": "code",
   "execution_count": 10,
   "metadata": {},
   "outputs": [
    {
     "name": "stdout",
     "output_type": "stream",
     "text": [
      "The slope of the fitted line is 7.492050247493345\n"
     ]
    }
   ],
   "source": [
    "print(\"The slope of the fitted line is\", poly[0])"
   ]
  }
 ],
 "metadata": {
  "kernelspec": {
   "display_name": "Python 3",
   "language": "python",
   "name": "python3"
  },
  "language_info": {
   "codemirror_mode": {
    "name": "ipython",
    "version": 3
   },
   "file_extension": ".py",
   "mimetype": "text/x-python",
   "name": "python",
   "nbconvert_exporter": "python",
   "pygments_lexer": "ipython3",
   "version": "3.7.6"
  }
 },
 "nbformat": 4,
 "nbformat_minor": 4
}
